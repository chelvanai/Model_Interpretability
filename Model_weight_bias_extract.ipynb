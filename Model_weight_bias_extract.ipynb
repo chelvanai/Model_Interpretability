{
  "nbformat": 4,
  "nbformat_minor": 0,
  "metadata": {
    "colab": {
      "name": "Untitled229.ipynb",
      "provenance": []
    },
    "kernelspec": {
      "name": "python3",
      "display_name": "Python 3"
    },
    "language_info": {
      "name": "python"
    }
  },
  "cells": [
    {
      "cell_type": "code",
      "metadata": {
        "colab": {
          "base_uri": "https://localhost:8080/"
        },
        "id": "gNej_9qgVGbu",
        "outputId": "88832b03-c13b-4a68-fd37-a663e1702617"
      },
      "source": [
        "!wget https://gist.githubusercontent.com/curran/a08a1080b88344b0c8a7/raw/0e7a9b0a5d22642a06d3d5b9bcbad9890c8ee534/iris.csv"
      ],
      "execution_count": 1,
      "outputs": [
        {
          "output_type": "stream",
          "name": "stdout",
          "text": [
            "--2021-11-17 05:18:11--  https://gist.githubusercontent.com/curran/a08a1080b88344b0c8a7/raw/0e7a9b0a5d22642a06d3d5b9bcbad9890c8ee534/iris.csv\n",
            "Resolving gist.githubusercontent.com (gist.githubusercontent.com)... 185.199.108.133, 185.199.109.133, 185.199.110.133, ...\n",
            "Connecting to gist.githubusercontent.com (gist.githubusercontent.com)|185.199.108.133|:443... connected.\n",
            "HTTP request sent, awaiting response... 200 OK\n",
            "Length: 3858 (3.8K) [text/plain]\n",
            "Saving to: ‘iris.csv’\n",
            "\n",
            "iris.csv            100%[===================>]   3.77K  --.-KB/s    in 0s      \n",
            "\n",
            "2021-11-17 05:18:11 (39.0 MB/s) - ‘iris.csv’ saved [3858/3858]\n",
            "\n"
          ]
        }
      ]
    },
    {
      "cell_type": "code",
      "metadata": {
        "id": "ZDOlh4HJVG_q"
      },
      "source": [
        "import numpy as np\n",
        "import torch\n",
        "import torch.nn as nn \n",
        "import torch.nn.functional as F \n",
        "from torch.utils.data import Dataset,DataLoader\n",
        "import pandas as pd\n",
        "from sklearn import preprocessing"
      ],
      "execution_count": 2,
      "outputs": []
    },
    {
      "cell_type": "code",
      "metadata": {
        "colab": {
          "base_uri": "https://localhost:8080/"
        },
        "id": "JImojlc5VHCn",
        "outputId": "e5926e32-e57d-446c-eb77-e0a49f5c2406"
      },
      "source": [
        "device = torch.device(\"cuda:0\" if torch.cuda.is_available() else \"cpu\")\n",
        "print(device)"
      ],
      "execution_count": 3,
      "outputs": [
        {
          "output_type": "stream",
          "name": "stdout",
          "text": [
            "cpu\n"
          ]
        }
      ]
    },
    {
      "cell_type": "code",
      "metadata": {
        "id": "fvvhgq8AVHFB"
      },
      "source": [
        "class IrisDataset(Dataset):\n",
        "    def __init__(self, file):\n",
        "        self.data = pd.read_csv(file)\n",
        "        input_features = self.data.values[:, 0:4].astype('float32')\n",
        "        self.x_train = torch.from_numpy(input_features)\n",
        "        \n",
        "        label_encoder = preprocessing.LabelEncoder()\n",
        "        self.data['species'] = label_encoder.fit_transform(self.data['species'])\n",
        "        mapping = dict(zip(label_encoder.classes_, label_encoder.transform(label_encoder.classes_)))\n",
        "        print(mapping)\n",
        "        target_label = self.data['species'].values\n",
        "        \n",
        "        self.y_train = torch.from_numpy(target_label)\n",
        "        \n",
        "    def __len__(self):\n",
        "        return len(self.data)\n",
        "    \n",
        "    def __getitem__(self, idx):\n",
        "        \n",
        "        return (self.x_train[idx],self.y_train[idx])"
      ],
      "execution_count": 4,
      "outputs": []
    },
    {
      "cell_type": "code",
      "metadata": {
        "id": "35jT7dAxVHIh"
      },
      "source": [
        "class MyDataset(Dataset):\n",
        "    def __init__(self, file):\n",
        "        self.data = pd.read_csv(file)\n",
        "\n",
        "        input_features = self.data.values[:, 0:2].astype('float32')\n",
        "        self.x_train = torch.from_numpy(input_features)\n",
        "        \n",
        "        target_label = self.data['y'].values\n",
        "        self.y_train = torch.from_numpy(target_label)\n",
        "        \n",
        "    def __len__(self):\n",
        "        return len(self.data)\n",
        "    \n",
        "    def __getitem__(self, idx):\n",
        "        \n",
        "        return (self.x_train[idx],self.y_train[idx])\n"
      ],
      "execution_count": 5,
      "outputs": []
    },
    {
      "cell_type": "code",
      "metadata": {
        "id": "PrsGa8R1VHK5"
      },
      "source": [
        "class Model(nn.Module):\n",
        "    def __init__(self, input_dim, output_dim):\n",
        "        super(Model, self).__init__()\n",
        "        self.layer1 = nn.Linear(input_dim, output_dim)\n",
        "\n",
        "\n",
        "    def forward(self, x):\n",
        "        x = F.softmax(self.layer1(x))\n",
        "        return x"
      ],
      "execution_count": 8,
      "outputs": []
    },
    {
      "cell_type": "code",
      "metadata": {
        "colab": {
          "base_uri": "https://localhost:8080/"
        },
        "id": "i6lH8oovVHOo",
        "outputId": "0fd79612-8e16-4acd-990a-62c8f9ed65fb"
      },
      "source": [
        "dataset = IrisDataset('iris.csv')\n",
        "iris_dataloader = DataLoader(dataset, batch_size=16, shuffle=True)"
      ],
      "execution_count": 6,
      "outputs": [
        {
          "output_type": "stream",
          "name": "stdout",
          "text": [
            "{'setosa': 0, 'versicolor': 1, 'virginica': 2}\n"
          ]
        }
      ]
    },
    {
      "cell_type": "code",
      "metadata": {
        "id": "84Clf9NpVHQK"
      },
      "source": [
        "mydataset = MyDataset('my_data.csv')\n",
        "my_dataloader = DataLoader(mydataset, batch_size=4, shuffle=True)"
      ],
      "execution_count": 7,
      "outputs": []
    },
    {
      "cell_type": "code",
      "metadata": {
        "id": "UbtI2hR7VHTZ"
      },
      "source": [
        "iris_model = Model(4,3).to(device)\n",
        "my_model = Model(2,2).to(device)"
      ],
      "execution_count": 13,
      "outputs": []
    },
    {
      "cell_type": "code",
      "metadata": {
        "id": "40ttPZ39VHVh"
      },
      "source": [
        "criterion = nn.CrossEntropyLoss()\n",
        "optimizer_iris = torch.optim.Adam(iris_model.parameters(), lr=0.001)\n",
        "optimizer_my = torch.optim.Adam(my_model.parameters(), lr=0.001)"
      ],
      "execution_count": 14,
      "outputs": []
    },
    {
      "cell_type": "markdown",
      "metadata": {
        "id": "I27bfiBJWWNa"
      },
      "source": [
        "# Train Iris"
      ]
    },
    {
      "cell_type": "code",
      "metadata": {
        "id": "u6w28WI9VHYu"
      },
      "source": [
        "epochs = 200\n",
        "\n",
        "for epoch in range(1,epochs+1):\n",
        "    print(\"EPOCH:\",epoch,end=\" \")\n",
        "    running_loss = 0\n",
        "    running_acc = 0\n",
        "    \n",
        "    for data,labels in iris_dataloader:\n",
        "        data,labels = data.to(device),labels.to(device)\n",
        "        optimizer_iris.zero_grad()\n",
        "        output = iris_model.forward(data)\n",
        "        loss = criterion(output,labels)\n",
        "        \n",
        "        result = torch.argmax(output,dim=1)\n",
        "        running_loss+=loss.item()\n",
        "        running_acc+=torch.mean((result==labels).type(torch.float))\n",
        "        \n",
        "        loss.backward()\n",
        "        optimizer_iris.step()\n",
        "    else:\n",
        "        train_loss = running_loss/len(iris_dataloader)\n",
        "        train_acc = running_acc/len(iris_dataloader)\n",
        "        \n",
        "        print(\"Training Loss: {:.3f}\".format(train_loss),end=\" \") \n",
        "       \n",
        "        print(\"Train Accuracy: {:.2f}%\".format(train_acc.item()*100))"
      ],
      "execution_count": null,
      "outputs": []
    },
    {
      "cell_type": "code",
      "metadata": {
        "colab": {
          "base_uri": "https://localhost:8080/"
        },
        "id": "o_8x6OynVHbg",
        "outputId": "7b277b0a-5e91-4cec-8c86-4501423090be"
      },
      "source": [
        "iris_model.layer1.weight"
      ],
      "execution_count": 18,
      "outputs": [
        {
          "output_type": "execute_result",
          "data": {
            "text/plain": [
              "Parameter containing:\n",
              "tensor([[-0.0810,  1.1333, -1.0530, -0.9367],\n",
              "        [-0.1015, -0.0743,  0.1437, -0.2491],\n",
              "        [-0.3555, -0.2440,  0.4371,  0.7291]], requires_grad=True)"
            ]
          },
          "metadata": {},
          "execution_count": 18
        }
      ]
    },
    {
      "cell_type": "code",
      "metadata": {
        "colab": {
          "base_uri": "https://localhost:8080/"
        },
        "id": "whD84EHYVHeX",
        "outputId": "d1761f8e-3422-4fae-85cf-a10d41390a13"
      },
      "source": [
        "iris_model.layer1.bias"
      ],
      "execution_count": 19,
      "outputs": [
        {
          "output_type": "execute_result",
          "data": {
            "text/plain": [
              "Parameter containing:\n",
              "tensor([ 0.5717,  0.0635, -0.6569], requires_grad=True)"
            ]
          },
          "metadata": {},
          "execution_count": 19
        }
      ]
    },
    {
      "cell_type": "code",
      "metadata": {
        "id": "eV19Vum3VHiQ"
      },
      "source": [
        "test_iris = torch.tensor([[1.2,4.1,3.1,1.1]])"
      ],
      "execution_count": 24,
      "outputs": []
    },
    {
      "cell_type": "code",
      "metadata": {
        "colab": {
          "base_uri": "https://localhost:8080/"
        },
        "id": "Ubrc_cuNY-QK",
        "outputId": "8e54fc50-cd8e-4752-f2eb-8e9b75fa4c54"
      },
      "source": [
        "iris_model(test_iris)"
      ],
      "execution_count": 25,
      "outputs": [
        {
          "output_type": "stream",
          "name": "stderr",
          "text": [
            "/usr/local/lib/python3.7/dist-packages/ipykernel_launcher.py:8: UserWarning: Implicit dimension choice for softmax has been deprecated. Change the call to include dim=X as an argument.\n",
            "  \n"
          ]
        },
        {
          "output_type": "execute_result",
          "data": {
            "text/plain": [
              "tensor([[0.5458, 0.1972, 0.2570]], grad_fn=<SoftmaxBackward0>)"
            ]
          },
          "metadata": {},
          "execution_count": 25
        }
      ]
    },
    {
      "cell_type": "markdown",
      "metadata": {
        "id": "6wGNmzOuaCFY"
      },
      "source": [
        "# Manual iris model interpret"
      ]
    },
    {
      "cell_type": "code",
      "metadata": {
        "id": "ZBcnicBnY-S7"
      },
      "source": [
        "weight_ = iris_model.layer1.weight\n",
        "\n",
        "bias_ = iris_model.layer1.bias"
      ],
      "execution_count": 26,
      "outputs": []
    },
    {
      "cell_type": "code",
      "metadata": {
        "id": "v_X3LR8YZL_x"
      },
      "source": [
        "w = torch.transpose(weight_, 0,1)"
      ],
      "execution_count": 27,
      "outputs": []
    },
    {
      "cell_type": "code",
      "metadata": {
        "colab": {
          "base_uri": "https://localhost:8080/"
        },
        "id": "VlMwqIBUZMDm",
        "outputId": "a45509b1-9dad-4e49-aa7c-ae8253f40a1b"
      },
      "source": [
        "w"
      ],
      "execution_count": 28,
      "outputs": [
        {
          "output_type": "execute_result",
          "data": {
            "text/plain": [
              "tensor([[-0.0810, -0.1015, -0.3555],\n",
              "        [ 1.1333, -0.0743, -0.2440],\n",
              "        [-1.0530,  0.1437,  0.4371],\n",
              "        [-0.9367, -0.2491,  0.7291]], grad_fn=<TransposeBackward0>)"
            ]
          },
          "metadata": {},
          "execution_count": 28
        }
      ]
    },
    {
      "cell_type": "code",
      "metadata": {
        "id": "HgBbXAnbZMFR"
      },
      "source": [
        "z = torch.matmul(test_iris, w) + bias_"
      ],
      "execution_count": 30,
      "outputs": []
    },
    {
      "cell_type": "code",
      "metadata": {
        "colab": {
          "base_uri": "https://localhost:8080/"
        },
        "id": "4V-J1bDhY-ZY",
        "outputId": "60370b33-04d5-44a3-ff8e-a6cf9b7721e8"
      },
      "source": [
        "z"
      ],
      "execution_count": 31,
      "outputs": [
        {
          "output_type": "execute_result",
          "data": {
            "text/plain": [
              "tensor([[ 0.8265, -0.1917,  0.0733]], grad_fn=<AddBackward0>)"
            ]
          },
          "metadata": {},
          "execution_count": 31
        }
      ]
    },
    {
      "cell_type": "code",
      "metadata": {
        "colab": {
          "base_uri": "https://localhost:8080/"
        },
        "id": "ROut3cWJZ5eD",
        "outputId": "b2785a3d-b64e-4cf9-db70-873b7adcce38"
      },
      "source": [
        "F.softmax(z)"
      ],
      "execution_count": 32,
      "outputs": [
        {
          "output_type": "stream",
          "name": "stderr",
          "text": [
            "/usr/local/lib/python3.7/dist-packages/ipykernel_launcher.py:1: UserWarning: Implicit dimension choice for softmax has been deprecated. Change the call to include dim=X as an argument.\n",
            "  \"\"\"Entry point for launching an IPython kernel.\n"
          ]
        },
        {
          "output_type": "execute_result",
          "data": {
            "text/plain": [
              "tensor([[0.5458, 0.1972, 0.2570]], grad_fn=<SoftmaxBackward0>)"
            ]
          },
          "metadata": {},
          "execution_count": 32
        }
      ]
    },
    {
      "cell_type": "markdown",
      "metadata": {
        "id": "M2xVr_WiWZOc"
      },
      "source": [
        "# Train my"
      ]
    },
    {
      "cell_type": "code",
      "metadata": {
        "id": "JVn48XqGVHkZ"
      },
      "source": [
        "epochs = 100\n",
        "\n",
        "for epoch in range(1,epochs+1):\n",
        "    print(\"EPOCH:\",epoch,end=\" \")\n",
        "    running_loss = 0\n",
        "    running_acc = 0\n",
        "    \n",
        "    for data,labels in my_dataloader:\n",
        "        data,labels = data.to(device),labels.to(device)\n",
        "        optimizer_my.zero_grad()\n",
        "        output = my_model.forward(data)\n",
        "        loss = criterion(output,labels)\n",
        "        \n",
        "        result = torch.argmax(output,dim=1)\n",
        "        running_loss+=loss.item()\n",
        "        running_acc+=torch.mean((result==labels).type(torch.float))\n",
        "        \n",
        "        loss.backward()\n",
        "        optimizer_my.step()\n",
        "    else:\n",
        "        train_loss = running_loss/len(my_dataloader)\n",
        "        train_acc = running_acc/len(my_dataloader)\n",
        "        \n",
        "        print(\"Training Loss: {:.3f}\".format(train_loss),end=\" \") \n",
        "       \n",
        "        print(\"Train Accuracy: {:.2f}%\".format(train_acc.item()*100))"
      ],
      "execution_count": null,
      "outputs": []
    },
    {
      "cell_type": "code",
      "metadata": {
        "id": "G3X0kXira8AZ"
      },
      "source": [
        "test_my = torch.tensor([[1.2,1.1]])"
      ],
      "execution_count": 44,
      "outputs": []
    },
    {
      "cell_type": "code",
      "metadata": {
        "colab": {
          "base_uri": "https://localhost:8080/"
        },
        "id": "S7yOU7Yca-dS",
        "outputId": "b4e1a517-9627-4d41-ee48-dea111ce920a"
      },
      "source": [
        "my_model(test_my)"
      ],
      "execution_count": 45,
      "outputs": [
        {
          "output_type": "stream",
          "name": "stderr",
          "text": [
            "/usr/local/lib/python3.7/dist-packages/ipykernel_launcher.py:8: UserWarning: Implicit dimension choice for softmax has been deprecated. Change the call to include dim=X as an argument.\n",
            "  \n"
          ]
        },
        {
          "output_type": "execute_result",
          "data": {
            "text/plain": [
              "tensor([[0.2522, 0.7478]], grad_fn=<SoftmaxBackward0>)"
            ]
          },
          "metadata": {},
          "execution_count": 45
        }
      ]
    },
    {
      "cell_type": "code",
      "metadata": {
        "colab": {
          "base_uri": "https://localhost:8080/"
        },
        "id": "zpa3WZujaMLh",
        "outputId": "0b9e3685-7e84-45a0-990f-2ec50f04c252"
      },
      "source": [
        "my_model.layer1.weight"
      ],
      "execution_count": 33,
      "outputs": [
        {
          "output_type": "execute_result",
          "data": {
            "text/plain": [
              "Parameter containing:\n",
              "tensor([[-0.4598,  0.5194],\n",
              "        [ 0.0734, -0.3372]], requires_grad=True)"
            ]
          },
          "metadata": {},
          "execution_count": 33
        }
      ]
    },
    {
      "cell_type": "code",
      "metadata": {
        "colab": {
          "base_uri": "https://localhost:8080/"
        },
        "id": "ubeyKjfuaMOY",
        "outputId": "dd5675fa-9e99-4055-e393-a993f3a52c03"
      },
      "source": [
        "my_model.layer1.bias"
      ],
      "execution_count": 34,
      "outputs": [
        {
          "output_type": "execute_result",
          "data": {
            "text/plain": [
              "Parameter containing:\n",
              "tensor([-0.6358,  0.7535], requires_grad=True)"
            ]
          },
          "metadata": {},
          "execution_count": 34
        }
      ]
    },
    {
      "cell_type": "code",
      "metadata": {
        "id": "liMMqoW0aMRP"
      },
      "source": [
        "weight_ = my_model.layer1.weight\n",
        "\n",
        "bias_ = my_model.layer1.bias"
      ],
      "execution_count": 35,
      "outputs": []
    },
    {
      "cell_type": "code",
      "metadata": {
        "id": "a-VsUvyCaMUw"
      },
      "source": [
        "w = torch.transpose(weight_, 0,1)"
      ],
      "execution_count": 46,
      "outputs": []
    },
    {
      "cell_type": "code",
      "metadata": {
        "colab": {
          "base_uri": "https://localhost:8080/"
        },
        "id": "Ct1KikCcaMXe",
        "outputId": "528a553f-b039-4e78-ebd6-f7fdca92e1c5"
      },
      "source": [
        "w"
      ],
      "execution_count": 47,
      "outputs": [
        {
          "output_type": "execute_result",
          "data": {
            "text/plain": [
              "tensor([[-0.4598,  0.0734],\n",
              "        [ 0.5194, -0.3372]], grad_fn=<TransposeBackward0>)"
            ]
          },
          "metadata": {},
          "execution_count": 47
        }
      ]
    },
    {
      "cell_type": "code",
      "metadata": {
        "id": "9YyJwpwTaMgM"
      },
      "source": [
        "z = torch.matmul(test_my, w) + bias_"
      ],
      "execution_count": 49,
      "outputs": []
    },
    {
      "cell_type": "code",
      "metadata": {
        "colab": {
          "base_uri": "https://localhost:8080/"
        },
        "id": "TbWjzq7Sbfgb",
        "outputId": "ef93455c-5050-41ea-d44b-4c493c2dee31"
      },
      "source": [
        "z"
      ],
      "execution_count": 50,
      "outputs": [
        {
          "output_type": "execute_result",
          "data": {
            "text/plain": [
              "tensor([[-0.6163,  0.4707]], grad_fn=<AddBackward0>)"
            ]
          },
          "metadata": {},
          "execution_count": 50
        }
      ]
    },
    {
      "cell_type": "code",
      "metadata": {
        "colab": {
          "base_uri": "https://localhost:8080/"
        },
        "id": "Raz_EzDbbfu1",
        "outputId": "0d7daf9a-d99c-4046-8c32-873b73862398"
      },
      "source": [
        "F.softmax(z)"
      ],
      "execution_count": 51,
      "outputs": [
        {
          "output_type": "stream",
          "name": "stderr",
          "text": [
            "/usr/local/lib/python3.7/dist-packages/ipykernel_launcher.py:1: UserWarning: Implicit dimension choice for softmax has been deprecated. Change the call to include dim=X as an argument.\n",
            "  \"\"\"Entry point for launching an IPython kernel.\n"
          ]
        },
        {
          "output_type": "execute_result",
          "data": {
            "text/plain": [
              "tensor([[0.2522, 0.7478]], grad_fn=<SoftmaxBackward0>)"
            ]
          },
          "metadata": {},
          "execution_count": 51
        }
      ]
    },
    {
      "cell_type": "code",
      "metadata": {
        "id": "p3LXTWszbkbK"
      },
      "source": [
        ""
      ],
      "execution_count": null,
      "outputs": []
    }
  ]
}